{
 "cells": [
  {
   "cell_type": "code",
   "execution_count": 1,
   "metadata": {},
   "outputs": [],
   "source": [
    "import csv\n",
    "from pathlib import Path"
   ]
  },
  {
   "cell_type": "code",
   "execution_count": 2,
   "metadata": {},
   "outputs": [],
   "source": [
    "menu_fp = Path(\"menu_data.csv\")\n",
    "sales_fp = Path(\"sales_data.csv\")\n",
    "menu = []\n",
    "sales = []"
   ]
  },
  {
   "cell_type": "code",
   "execution_count": 3,
   "metadata": {},
   "outputs": [],
   "source": [
    "with open(menu_fp, 'r') as csvfile:\n",
    "    menu_csv = csv.reader(csvfile, delimiter = ',')\n",
    "    next(menu_csv)\n",
    "\n",
    "    for row in menu_csv:\n",
    "        menu.append(row)\n"
   ]
  },
  {
   "cell_type": "code",
   "execution_count": 4,
   "metadata": {},
   "outputs": [],
   "source": [
    "with open(sales_fp, 'r') as sales_csvfile:\n",
    "    sales_csv = csv.reader(sales_csvfile, delimiter = ',')\n",
    "    next(sales_csv)\n",
    "    \n",
    "    for row in sales_csv:\n",
    "        sales.append(row)"
   ]
  },
  {
   "cell_type": "code",
   "execution_count": 5,
   "metadata": {},
   "outputs": [
    {
     "name": "stdout",
     "output_type": "stream",
     "text": [
      "{'spicy miso ramen': {'01-count': 9238, '02-revenue': 110856, '03-cogs': 46190, '04-profit': 64666}, 'tori paitan ramen': {'01-count': 9154, '02-revenue': 119002, '03-cogs': 54924, '04-profit': 64078}, 'truffle butter ramen': {'01-count': 8982, '02-revenue': 125748, '03-cogs': 62874, '04-profit': 62874}, 'tonkotsu ramen': {'01-count': 9288, '02-revenue': 120744, '03-cogs': 55728, '04-profit': 65016}, 'vegetarian spicy miso': {'01-count': 9216, '02-revenue': 110592, '03-cogs': 46080, '04-profit': 64512}, 'shio ramen': {'01-count': 9180, '02-revenue': 100980, '03-cogs': 45900, '04-profit': 55080}, 'miso crab ramen': {'01-count': 8887, '02-revenue': 106644, '03-cogs': 53322, '04-profit': 53322}, 'nagomi shoyu': {'01-count': 9132, '02-revenue': 100452, '03-cogs': 45660, '04-profit': 54792}, 'soft-shell miso crab ramen': {'01-count': 9130, '02-revenue': 127820, '03-cogs': 63910, '04-profit': 63910}, 'burnt garlic tonkotsu ramen': {'01-count': 9070, '02-revenue': 126980, '03-cogs': 54420, '04-profit': 72560}, 'vegetarian curry + king trumpet mushroom ramen': {'01-count': 8824, '02-revenue': 114712, '03-cogs': 61768, '04-profit': 52944}}\n"
     ]
    }
   ],
   "source": [
    "report = {}\n",
    "\n",
    "row_count = 0\n",
    "\n",
    "for row in sales:\n",
    "    if(row[4] not in report.keys()):\n",
    "        report[row[4]] = {'01-count': 1, '02-revenue': 0, '03-cogs': 0, '04-profit': 0}\n",
    "    else:\n",
    "        report[row[4]]['01-count'] += int(row[3])\n",
    "\n",
    "for item in menu:\n",
    "    if(item[0] in report.keys()):\n",
    "\n",
    "        report[item[0]]['02-revenue'] = (report[item[0]]['01-count'] * int(item[3]))\n",
    "        report[item[0]]['03-cogs'] = (report[item[0]]['01-count'] * int(item[4]))\n",
    "\n",
    "    \n",
    "for key in report:\n",
    "    report[key]['04-profit'] = report[key]['02-revenue'] - report[key]['03-cogs']\n",
    "\n",
    "print(report)"
   ]
  },
  {
   "cell_type": "code",
   "execution_count": null,
   "metadata": {},
   "outputs": [],
   "source": []
  }
 ],
 "metadata": {
  "kernelspec": {
   "display_name": "Python 3",
   "language": "python",
   "name": "python3"
  },
  "language_info": {
   "codemirror_mode": {
    "name": "ipython",
    "version": 3
   },
   "file_extension": ".py",
   "mimetype": "text/x-python",
   "name": "python",
   "nbconvert_exporter": "python",
   "pygments_lexer": "ipython3",
   "version": "3.7.6"
  }
 },
 "nbformat": 4,
 "nbformat_minor": 4
}
