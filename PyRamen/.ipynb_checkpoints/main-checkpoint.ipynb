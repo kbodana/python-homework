{
 "cells": [
  {
   "cell_type": "code",
   "execution_count": 144,
   "metadata": {},
   "outputs": [],
   "source": [
    "import csv\n",
    "from pathlib import Path"
   ]
  },
  {
   "cell_type": "code",
   "execution_count": 145,
   "metadata": {},
   "outputs": [],
   "source": [
    "menu_fp = Path(\"menu_data.csv\")\n",
    "sales_fp = Path(\"sales_data.csv\")\n",
    "menu = []\n",
    "sales = []"
   ]
  },
  {
   "cell_type": "code",
   "execution_count": 146,
   "metadata": {},
   "outputs": [],
   "source": [
    "with open(menu_fp, 'r') as csvfile:\n",
    "    menu_csv = csv.reader(csvfile, delimiter = ',')\n",
    "    next(menu_csv)\n",
    "\n",
    "    for row in menu_csv:\n",
    "        menu.append(row)\n"
   ]
  },
  {
   "cell_type": "code",
   "execution_count": 147,
   "metadata": {},
   "outputs": [],
   "source": [
    "with open(sales_fp, 'r') as sales_csvfile:\n",
    "    sales_csv = csv.reader(sales_csvfile, delimiter = ',')\n",
    "    next(sales_csv)\n",
    "    \n",
    "    for row in sales_csv:\n",
    "        sales.append(row)"
   ]
  },
  {
   "cell_type": "code",
   "execution_count": 148,
   "metadata": {},
   "outputs": [
    {
     "name": "stdout",
     "output_type": "stream",
     "text": [
      "{'spicy miso ramen': {'01-count': 9237, '02-revenue': 110844, '03-cogs': 46185, '04-profit': 64659}, 'tori paitan ramen': {'01-count': 9153, '02-revenue': 118989, '03-cogs': 54918, '04-profit': 64071}, 'truffle butter ramen': {'01-count': 8981, '02-revenue': 125734, '03-cogs': 62867, '04-profit': 62867}, 'tonkotsu ramen': {'01-count': 9287, '02-revenue': 120731, '03-cogs': 55722, '04-profit': 65009}, 'vegetarian spicy miso': {'01-count': 9215, '02-revenue': 110580, '03-cogs': 46075, '04-profit': 64505}, 'shio ramen': {'01-count': 9179, '02-revenue': 100969, '03-cogs': 45895, '04-profit': 55074}, 'miso crab ramen': {'01-count': 8886, '02-revenue': 106632, '03-cogs': 53316, '04-profit': 53316}, 'nagomi shoyu': {'01-count': 9131, '02-revenue': 100441, '03-cogs': 45655, '04-profit': 54786}, 'soft-shell miso crab ramen': {'01-count': 9129, '02-revenue': 127806, '03-cogs': 63903, '04-profit': 63903}, 'burnt garlic tonkotsu ramen': {'01-count': 9069, '02-revenue': 126966, '03-cogs': 54414, '04-profit': 72552}, 'vegetarian curry + king trumpet mushroom ramen': {'01-count': 8823, '02-revenue': 114699, '03-cogs': 61761, '04-profit': 52938}}\n"
     ]
    }
   ],
   "source": [
    "report = {}\n",
    "\n",
    "row_count = 0\n",
    "\n",
    "for row in sales:\n",
    "    if(row[4] not in report.keys()):\n",
    "        report[row[4]] = {'01-count': 0, '02-revenue': 0, '03-cogs': 0, '04-profit': 0}\n",
    "    else:\n",
    "        report[row[4]]['01-count'] += int(row[3])\n",
    "\n",
    "for item in menu:\n",
    "    if(item[0] in report.keys()):\n",
    "\n",
    "        report[item[0]]['02-revenue'] = (report[item[0]]['01-count'] * int(item[3]))\n",
    "        report[item[0]]['03-cogs'] = (report[item[0]]['01-count'] * int(item[4]))\n",
    "\n",
    "    \n",
    "for key in report:\n",
    "    report[key]['04-profit'] = report[key]['02-revenue'] - report[key]['03-cogs']\n",
    "\n",
    "print(report)"
   ]
  },
  {
   "cell_type": "code",
   "execution_count": null,
   "metadata": {},
   "outputs": [],
   "source": []
  }
 ],
 "metadata": {
  "kernelspec": {
   "display_name": "Python 3",
   "language": "python",
   "name": "python3"
  },
  "language_info": {
   "codemirror_mode": {
    "name": "ipython",
    "version": 3
   },
   "file_extension": ".py",
   "mimetype": "text/x-python",
   "name": "python",
   "nbconvert_exporter": "python",
   "pygments_lexer": "ipython3",
   "version": "3.7.6"
  }
 },
 "nbformat": 4,
 "nbformat_minor": 4
}
