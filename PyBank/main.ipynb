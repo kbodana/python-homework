{
 "cells": [
  {
   "cell_type": "code",
   "execution_count": 124,
   "metadata": {},
   "outputs": [],
   "source": [
    "from pathlib import Path\n",
    "import csv"
   ]
  },
  {
   "cell_type": "code",
   "execution_count": 181,
   "metadata": {},
   "outputs": [],
   "source": [
    "total_months = 0\n",
    "total = 0\n",
    "previous_profit = 0\n",
    "avg_change = 0\n",
    "profit_change = 0\n",
    "total_profit_change = 0\n",
    "greatest_increase_profits = 0\n",
    "greatest_increase_date = None\n",
    "greatest_decrease_profits = 0\n",
    "greatest_decrease_date = None"
   ]
  },
  {
   "cell_type": "code",
   "execution_count": 182,
   "metadata": {},
   "outputs": [],
   "source": [
    "csv_path = Path(\"budget_data.csv\")"
   ]
  },
  {
   "cell_type": "code",
   "execution_count": 183,
   "metadata": {},
   "outputs": [],
   "source": [
    "with open(csv_path, 'r') as csvfile:\n",
    "    csvreader = csv.reader(csvfile, delimiter=',')\n",
    "    csv_header = next(csvreader)\n",
    "    \n",
    "    for row in csvreader:\n",
    "        total_months += 1\n",
    "        total += int(row[1])\n",
    "        if (total_months != 1):\n",
    "            profit_change  = int(row[1]) - previous_profit\n",
    "            total_profit_change += profit_change\n",
    "        if (profit_change > greatest_increase_profits):\n",
    "            greatest_increase_profits = profit_change\n",
    "            greatest_increase_date = row[0]\n",
    "        if (profit_change < greatest_decrease_profits):\n",
    "            greatest_decrease_profits = profit_change\n",
    "            greatest_decrease_date = row[0]\n",
    "        previous_profit = int(row[1])\n",
    "    "
   ]
  },
  {
   "cell_type": "code",
   "execution_count": 184,
   "metadata": {},
   "outputs": [],
   "source": [
    "avg_change = total_change / (total_months - 1)"
   ]
  },
  {
   "cell_type": "code",
   "execution_count": 185,
   "metadata": {},
   "outputs": [
    {
     "name": "stdout",
     "output_type": "stream",
     "text": [
      "Financial Analysis\n",
      "--------------------\n",
      "Total Months: 86\n",
      "Total: $38382578\n",
      "Average Change: $-2315.12\n",
      "Greatest Increase in Profits: Feb-2012 ($1926159)\n",
      "Greatest Decrease in Profits: Sep-2013 ($-2196167)\n"
     ]
    }
   ],
   "source": [
    "print(\"Financial Analysis\")\n",
    "print(\"-\"*20)\n",
    "print(f\"Total Months: {total_months}\")\n",
    "print(f\"Total: ${total}\")\n",
    "print(f\"Average Change: ${avg_change:.2f}\")\n",
    "print(f\"Greatest Increase in Profits: {greatest_increase_date} (${greatest_increase_profits})\")\n",
    "print(f\"Greatest Decrease in Profits: {greatest_decrease_date} (${greatest_decrease_profits})\")"
   ]
  },
  {
   "cell_type": "code",
   "execution_count": null,
   "metadata": {},
   "outputs": [],
   "source": []
  }
 ],
 "metadata": {
  "kernelspec": {
   "display_name": "Python 3",
   "language": "python",
   "name": "python3"
  },
  "language_info": {
   "codemirror_mode": {
    "name": "ipython",
    "version": 3
   },
   "file_extension": ".py",
   "mimetype": "text/x-python",
   "name": "python",
   "nbconvert_exporter": "python",
   "pygments_lexer": "ipython3",
   "version": "3.7.6"
  }
 },
 "nbformat": 4,
 "nbformat_minor": 4
}
